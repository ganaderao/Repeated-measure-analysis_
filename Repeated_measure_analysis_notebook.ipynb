{
  "nbformat": 4,
  "nbformat_minor": 0,
  "metadata": {
    "colab": {
      "provenance": [],
      "authorship_tag": "ABX9TyNaxBbeUWTftziKGh/75S/i",
      "include_colab_link": true
    },
    "kernelspec": {
      "name": "python3",
      "display_name": "Python 3"
    },
    "language_info": {
      "name": "python"
    }
  },
  "cells": [
    {
      "cell_type": "markdown",
      "metadata": {
        "id": "view-in-github",
        "colab_type": "text"
      },
      "source": [
        "<a href=\"https://colab.research.google.com/github/ganaderao/Repeated-measure-analysis_/blob/main/Repeated_measure_analysis_notebook.ipynb\" target=\"_parent\"><img src=\"https://colab.research.google.com/assets/colab-badge.svg\" alt=\"Open In Colab\"/></a>"
      ]
    },
    {
      "cell_type": "code",
      "execution_count": null,
      "metadata": {
        "id": "z-qL9Ri-a13q"
      },
      "outputs": [],
      "source": [
        "# Import necessary libraries\n",
        "import pandas as pd\n",
        "import statsmodels.api as sm\n",
        "from statsmodels.formula.api import mixedlm\n",
        "from google.colab import files\n",
        "\n",
        "# Step 1: Upload your file\n",
        "uploaded = files.upload()\n",
        "\n",
        "# Step 2: Read the uploaded file\n",
        "file_name = list(uploaded.keys())[0]  # Automatically get the uploaded file's name\n",
        "data = pd.read_csv(file_name)\n",
        "\n",
        "# Step 3: Clean and prepare the data\n",
        "# Drop unnecessary columns\n",
        "data = data.loc[:, ~data.columns.str.contains('^Unnamed')]\n",
        "\n",
        "# Rename 'Animal ID' to 'AnimalID' for consistency\n",
        "if 'Animal ID' in data.columns:\n",
        "    data.rename(columns={'Animal ID': 'AnimalID'}, inplace=True)\n",
        "\n",
        "# Ensure 'AnimalID' column exists\n",
        "if 'AnimalID' not in data.columns:\n",
        "    raise ValueError(\"AnimalID column is missing.\")\n",
        "\n",
        "# Ensure AnimalID is unique and consistent\n",
        "data['AnimalID'] = data['AnimalID'].astype(int).astype(str)  # Convert to string for grouping\n",
        "\n",
        "# Drop any duplicate rows\n",
        "data = data.drop_duplicates()\n",
        "\n",
        "# Check for missing values\n",
        "print(\"Missing values in dataset:\\n\", data.isnull().sum())\n",
        "\n",
        "# Drop rows with missing DMI values (or handle as needed)\n",
        "data = data.dropna(subset=['DMI'])\n",
        "\n",
        "# Step 4: Perform repeated measures analysis\n",
        "try:\n",
        "    # Using treatment and week as fixed effects and individual animals nested under treatment as random effect\n",
        "    model = mixedlm(\"DMI ~ Treat * Week\", data, groups=data[\"AnimalID\"])\n",
        "    result = model.fit()\n",
        "    print(result.summary())\n",
        "except Exception as e:\n",
        "    print(\"Error in model fitting:\", e)\n"
      ]
    },
    {
      "cell_type": "code",
      "source": [
        "# Import necessary libraries\n",
        "import pandas as pd\n",
        "import statsmodels.api as sm\n",
        "from statsmodels.formula.api import mixedlm\n",
        "from google.colab import files\n",
        "\n",
        "# Step 1: Upload your file\n",
        "uploaded = files.upload()\n",
        "\n",
        "# Step 2: Read the uploaded file\n",
        "file_name = list(uploaded.keys())[0]  # Automatically get the uploaded file's name\n",
        "data = pd.read_csv(file_name)\n",
        "\n",
        "# Step 3: Clean and prepare the data\n",
        "# Drop unnecessary columns\n",
        "data = data.loc[:, ~data.columns.str.contains('^Unnamed')]\n",
        "\n",
        "# Rename 'Animal ID' to 'AnimalID' for consistency\n",
        "if 'Animal ID' in data.columns:\n",
        "    data.rename(columns={'Animal ID': 'AnimalID'}, inplace=True)\n",
        "\n",
        "# Ensure 'AnimalID' column exists\n",
        "if 'AnimalID' not in data.columns:\n",
        "    raise ValueError(\"AnimalID column is missing.\")\n",
        "\n",
        "# Ensure AnimalID is unique and consistent\n",
        "data['AnimalID'] = data['AnimalID'].astype(int).astype(str)  # Convert to string for grouping\n",
        "\n",
        "# Drop any duplicate rows\n",
        "data = data.drop_duplicates()\n",
        "\n",
        "# Check for missing values\n",
        "print(\"Missing values in dataset:\\n\", data.isnull().sum())\n",
        "\n",
        "# Drop rows with missing DMI values (or handle as needed)\n",
        "data = data.dropna(subset=['DMI'])\n",
        "\n",
        "# Step 4: Perform repeated measures analysis\n",
        "try:\n",
        "    # Using treatment and week as fixed effects and individual animals nested under treatment as random effect\n",
        "    model = mixedlm(\"DMI ~ Treat * Week\", data, groups=data[\"AnimalID\"])\n",
        "    result = model.fit()\n",
        "    print(result.summary())\n",
        "except Exception as e:\n",
        "    print(\"Error in model fitting:\", e)\n"
      ],
      "metadata": {
        "id": "ugI9-DlmbAYB"
      },
      "execution_count": null,
      "outputs": []
    }
  ]
}